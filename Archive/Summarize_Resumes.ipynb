{
 "cells": [
  {
   "cell_type": "markdown",
   "id": "a931d885",
   "metadata": {},
   "source": [
    "# General Resume Summary"
   ]
  },
  {
   "cell_type": "code",
   "execution_count": null,
   "id": "49b1aaf3",
   "metadata": {},
   "outputs": [],
   "source": [
    "import torch\n",
    "from llama_index.embeddings.huggingface import HuggingFaceEmbedding\n",
    "from llama_index.core import VectorStoreIndex\n",
    "from llama_index.core import Settings\n",
    "from llama_index.llms.openai import OpenAI\n",
    "from llama_index.core.response_synthesizers import TreeSummarize\n",
    "from llama_index.core.types import BaseModel\n",
    "import src.utils as utils\n",
    "import src.prompts as prompts\n",
    "import src.postgresDB.pgstore as pgstore\n",
    "from typing import List"
   ]
  },
  {
   "cell_type": "markdown",
   "id": "ce27cd4e",
   "metadata": {},
   "source": [
    "Define embeddings and llm"
   ]
  },
  {
   "cell_type": "code",
   "execution_count": null,
   "id": "c7e15255",
   "metadata": {},
   "outputs": [],
   "source": [
    "embed_model = HuggingFaceEmbedding(\n",
    "    model_name=\"BAAI/bge-base-en-v1.5\",\n",
    "    model_kwargs={\n",
    "        \"torch_dtype\": \"float16\"\n",
    "        },\n",
    "    device=\"cuda\",\n",
    "    embed_batch_size=16,\n",
    "    normalize=True,\n",
    "    parallel_process=True,\n",
    "    show_progress_bar=True\n",
    ")\n",
    "\n",
    "Settings.embed_model = embed_model\n",
    "llm = OpenAI(model = \"gpt-4.1\")\n",
    "Settings.llm = llm"
   ]
  },
  {
   "cell_type": "markdown",
   "id": "079262ba",
   "metadata": {},
   "source": [
    "Connect to Vector Store (PostgreSQL)"
   ]
  },
  {
   "cell_type": "code",
   "execution_count": null,
   "id": "f891c41b",
   "metadata": {},
   "outputs": [],
   "source": [
    "vector_store = pgstore.Vector_Store(connection_string=\"\", db_name=\"resume_db\").create_index()"
   ]
  },
  {
   "cell_type": "code",
   "execution_count": null,
   "id": "aadebbed",
   "metadata": {},
   "outputs": [],
   "source": [
    "index = VectorStoreIndex.from_vector_store(vector_store=vector_store)"
   ]
  },
  {
   "cell_type": "code",
   "execution_count": null,
   "id": "b3f566c3",
   "metadata": {},
   "outputs": [],
   "source": [
    "from typing import List, Optional\n",
    "from pydantic import BaseModel, EmailStr, HttpUrl\n",
    "\n",
    "\n",
    "class Experience(BaseModel):\n",
    "    title: str\n",
    "    company: str\n",
    "    start_date: str\n",
    "    end_date: Optional[str] = None\n",
    "    description: Optional[str] = None\n",
    "\n",
    "\n",
    "class Education(BaseModel):\n",
    "    institution: str\n",
    "    degree: str\n",
    "    field_of_study: str\n",
    "    start_date: str\n",
    "    end_date: Optional[str] = None\n",
    "\n",
    "\n",
    "class Project(BaseModel):\n",
    "    name: str\n",
    "    description: str\n",
    "    technologies: List[str]\n",
    "\n",
    "\n",
    "class Certification(BaseModel):\n",
    "    name: str\n",
    "    issuer: str\n",
    "    date: Optional[str] = None\n",
    "\n",
    "\n",
    "class ResumeContent(BaseModel):\n",
    "    \"\"\"A class representing the content of a resume.\"\"\"\n",
    "\n",
    "    name: Optional[str] = None\n",
    "    email: Optional[EmailStr] = None\n",
    "    phone: Optional[str] = None\n",
    "    linkedin: Optional[HttpUrl] = None\n",
    "    github: Optional[HttpUrl] = None\n",
    "    skills: List[str]\n",
    "    experiences: List[Experience]\n",
    "    education: List[Education]\n",
    "    projects: List[Project]\n",
    "    certifications: List[Certification]\n",
    "    summary: str\n"
   ]
  },
  {
   "cell_type": "code",
   "execution_count": null,
   "id": "48ebdf2c",
   "metadata": {},
   "outputs": [],
   "source": [
    "summarizer = TreeSummarize(verbose=True, output_cls=ResumeContent)"
   ]
  },
  {
   "cell_type": "code",
   "execution_count": null,
   "id": "0951b845",
   "metadata": {},
   "outputs": [],
   "source": [
    "query_engine = index.as_query_engine()\n",
    "retrieval_response = query_engine.query(\"Summarize all resumes in the database.\")\n",
    "\n",
    "text_chunks = [node.node.get_content() for node in retrieval_response.source_nodes]\n",
    "\n",
    "# Run the TreeSummarize over the text chunks\n",
    "response = summarizer.get_response(\n",
    "    \"Summarize the resumes.\",\n",
    "    text_chunks=text_chunks\n",
    ")\n",
    "print(response)"
   ]
  },
  {
   "cell_type": "code",
   "execution_count": null,
   "id": "109c9d39",
   "metadata": {},
   "outputs": [],
   "source": [
    "print(text_chunks)"
   ]
  },
  {
   "cell_type": "code",
   "execution_count": null,
   "id": "aeba69d6",
   "metadata": {},
   "outputs": [],
   "source": []
  }
 ],
 "metadata": {
  "kernelspec": {
   "display_name": "venv",
   "language": "python",
   "name": "python3"
  },
  "language_info": {
   "codemirror_mode": {
    "name": "ipython",
    "version": 3
   },
   "file_extension": ".py",
   "mimetype": "text/x-python",
   "name": "python",
   "nbconvert_exporter": "python",
   "pygments_lexer": "ipython3",
   "version": "3.13.6"
  }
 },
 "nbformat": 4,
 "nbformat_minor": 5
}

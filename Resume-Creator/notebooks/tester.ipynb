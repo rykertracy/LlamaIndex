{
 "cells": [
  {
   "cell_type": "markdown",
   "id": "2d4ccf1e",
   "metadata": {},
   "source": [
    "Define embeddings"
   ]
  },
  {
   "cell_type": "code",
   "execution_count": null,
   "id": "560334a5",
   "metadata": {},
   "outputs": [],
   "source": [
    "# Huggingface embeddings\n",
    "from llama_index.embeddings.huggingface import HuggingFaceEmbedding\n",
    "\n",
    "embed_model = HuggingFaceEmbedding(\n",
    "    model_name=\"BAAI/bge-base-en-v1.5\",\n",
    "    model_kwargs={\n",
    "        \"torch_dtype\": \"float16\"\n",
    "        },\n",
    "    device=\"cuda\",\n",
    "    embed_batch_size=16,\n",
    "    normalize=True,\n",
    "    parallel_process=True,\n",
    "    show_progress_bar=True\n",
    ")"
   ]
  },
  {
   "cell_type": "markdown",
   "id": "36b79ec0",
   "metadata": {},
   "source": [
    "Define LLM"
   ]
  },
  {
   "cell_type": "code",
   "execution_count": null,
   "id": "fd7d04a6",
   "metadata": {},
   "outputs": [],
   "source": [
    "# Define LLM\n",
    "from llama_index.llms.openai import OpenAI\n",
    "llm = OpenAI(\n",
    "    model = \"gpt-5-mini-2025-08-07\",\n",
    "    temperature = 0.6,\n",
    ")"
   ]
  },
  {
   "cell_type": "markdown",
   "id": "70244403",
   "metadata": {},
   "source": [
    "Connect to and Initialize PostgreSQL Database"
   ]
  },
  {
   "cell_type": "code",
   "execution_count": null,
   "id": "97468fe3",
   "metadata": {},
   "outputs": [],
   "source": [
    "import psycopg2\n",
    "db_name=\"resume_db\"\n",
    "host = \"localhost\"\n",
    "password = \"123456\"\n",
    "port = \"5432\"\n",
    "user = \"postgres\"\n",
    "\n",
    "conn = psycopg2.connect(\n",
    "    dbname=\"postgres\",\n",
    "    user=user,\n",
    "    password=password,\n",
    "    host=host,\n",
    "    port=port\n",
    ")\n",
    "conn.autocommit = True\n",
    "\n",
    "with conn.cursor() as cursor:\n",
    "    cursor.execute(f\"DROP DATABASE IF EXISTS {db_name};\")\n",
    "    cursor.execute(f\"CREATE DATABASE {db_name};\")"
   ]
  },
  {
   "cell_type": "code",
   "execution_count": null,
   "id": "95d1f666",
   "metadata": {},
   "outputs": [],
   "source": [
    "from sqlalchemy import make_url\n",
    "from llama_index.vector_stores.postgres import PGVectorStore\n",
    "\n",
    "vector_store = PGVectorStore.from_params(\n",
    "    database=db_name,\n",
    "    host=host,\n",
    "    port=port,\n",
    "    user=user,\n",
    "    password=password,\n",
    "    table_name=\"resume_table\",\n",
    "    embed_dim=768\n",
    ")"
   ]
  },
  {
   "cell_type": "markdown",
   "id": "bf3ca04c",
   "metadata": {},
   "source": [
    "Use PyMuPDF to read data"
   ]
  },
  {
   "cell_type": "code",
   "execution_count": null,
   "id": "df3942cf",
   "metadata": {},
   "outputs": [],
   "source": [
    "from pathlib import Path\n",
    "from llama_index.readers.file import PyMuPDFReader\n",
    "import textwrap\n",
    "\n",
    "\n",
    "loader = PyMuPDFReader()\n",
    "pdf_dir = Path(\"C:\\\\LlamaIndex\\\\Resume-Creator\\\\data\")\n",
    "pdf_files = list(pdf_dir.glob(\"*.pdf\"))  # Get all PDF files in the directory\n",
    "\n",
    "documents = []\n",
    "for pdf_file in pdf_files:\n",
    "    docs = loader.load(file_path=str(pdf_file))\n",
    "    documents.extend(docs)\n",
    "\n",
    "textwrap.wrap(documents[0].text)[0:50]"
   ]
  },
  {
   "cell_type": "markdown",
   "id": "3c214eb9",
   "metadata": {},
   "source": [
    "Split text"
   ]
  },
  {
   "cell_type": "code",
   "execution_count": null,
   "id": "9cd27f14",
   "metadata": {},
   "outputs": [],
   "source": [
    "from llama_index.core.node_parser import SentenceSplitter\n",
    "text_parser = SentenceSplitter(\n",
    "    chunk_size=512,\n",
    "    chunk_overlap=50,\n",
    ")"
   ]
  },
  {
   "cell_type": "code",
   "execution_count": null,
   "id": "17d7efc8",
   "metadata": {},
   "outputs": [],
   "source": [
    "text_chunks = []\n",
    "doc_idxs = []\n",
    "for doc_idx, doc in enumerate(documents):\n",
    "    cur_text_chunks = text_parser.split_text(doc.text)\n",
    "    text_chunks.extend(cur_text_chunks)\n",
    "    doc_idxs.extend([doc_idx] * len(cur_text_chunks))"
   ]
  },
  {
   "cell_type": "markdown",
   "id": "b81a9e42",
   "metadata": {},
   "source": [
    "Construct nodes"
   ]
  },
  {
   "cell_type": "code",
   "execution_count": null,
   "id": "26fdfcdf",
   "metadata": {},
   "outputs": [],
   "source": [
    "from llama_index.core.schema import TextNode\n",
    "nodes = []\n",
    "for idx, text_chunk in enumerate(text_chunks):\n",
    "    node = TextNode(\n",
    "        text=text_chunk,\n",
    "    )\n",
    "    src_doc = documents[doc_idxs[idx]]\n",
    "    node.metadata = src_doc.metadata\n",
    "    nodes.append(node)"
   ]
  },
  {
   "cell_type": "markdown",
   "id": "dc525d6c",
   "metadata": {},
   "source": [
    "Generate embeddings"
   ]
  },
  {
   "cell_type": "code",
   "execution_count": null,
   "id": "70d9d507",
   "metadata": {},
   "outputs": [],
   "source": [
    "for node in nodes:\n",
    "    node_embedding = embed_model.get_text_embedding(\n",
    "        node.get_content(metadata_mode=\"all\")\n",
    "    )\n",
    "    node.embedding = node_embedding"
   ]
  },
  {
   "cell_type": "markdown",
   "id": "a48e5c7c",
   "metadata": {},
   "source": [
    "Load nodes into vector store"
   ]
  },
  {
   "cell_type": "code",
   "execution_count": null,
   "id": "e3610b87",
   "metadata": {},
   "outputs": [],
   "source": [
    "# Remove NUL characters from node text before adding to vector store\n",
    "for node in nodes:\n",
    "\tif hasattr(node, \"text\"):\n",
    "\t\tnode.text = node.text.replace('\\x00', '')\n",
    "\n",
    "vector_store.add(nodes)"
   ]
  },
  {
   "cell_type": "markdown",
   "id": "fe7203ab",
   "metadata": {},
   "source": [
    "Generate a Query Embedding"
   ]
  },
  {
   "cell_type": "code",
   "execution_count": null,
   "id": "73fa1438",
   "metadata": {},
   "outputs": [],
   "source": [
    "query_str = \"What is the experience at Battelle?\"\n",
    "\n",
    "query_embedding = embed_model.get_query_embedding(query_str)"
   ]
  },
  {
   "cell_type": "markdown",
   "id": "63ecce5f",
   "metadata": {},
   "source": [
    "Query the Vector database"
   ]
  },
  {
   "cell_type": "code",
   "execution_count": null,
   "id": "8b350b49",
   "metadata": {},
   "outputs": [],
   "source": [
    "from llama_index.core.vector_stores import VectorStoreQuery\n",
    "\n",
    "query_mode = \"default\"\n",
    "\n",
    "vector_store_query = VectorStoreQuery(\n",
    "    query_embedding=query_embedding, mode=query_mode\n",
    ")"
   ]
  },
  {
   "cell_type": "code",
   "execution_count": null,
   "id": "cdb80bbd",
   "metadata": {},
   "outputs": [],
   "source": [
    "query_result = vector_store.query(vector_store_query)\n",
    "print(query_result.nodes)"
   ]
  },
  {
   "cell_type": "code",
   "execution_count": null,
   "id": "4b68a668",
   "metadata": {},
   "outputs": [],
   "source": [
    "import src.prompts as prompts"
   ]
  },
  {
   "cell_type": "code",
   "execution_count": null,
   "id": "e11f89ad",
   "metadata": {},
   "outputs": [],
   "source": []
  }
 ],
 "metadata": {
  "kernelspec": {
   "display_name": "venv",
   "language": "python",
   "name": "python3"
  },
  "language_info": {
   "codemirror_mode": {
    "name": "ipython",
    "version": 3
   },
   "file_extension": ".py",
   "mimetype": "text/x-python",
   "name": "python",
   "nbconvert_exporter": "python",
   "pygments_lexer": "ipython3",
   "version": "3.13.6"
  }
 },
 "nbformat": 4,
 "nbformat_minor": 5
}

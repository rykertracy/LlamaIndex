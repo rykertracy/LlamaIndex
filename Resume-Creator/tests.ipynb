{
 "cells": [
  {
   "cell_type": "markdown",
   "id": "3e20ce24",
   "metadata": {},
   "source": [
    "# Tests of Source Code"
   ]
  },
  {
   "cell_type": "code",
   "execution_count": 4,
   "id": "11e0289b",
   "metadata": {},
   "outputs": [
    {
     "name": "stdout",
     "output_type": "stream",
     "text": [
      "c:\\LlamaIndex\\Resume-Creator\n",
      "['C:\\\\Users\\\\ryker\\\\AppData\\\\Local\\\\Programs\\\\Python\\\\Python313\\\\python313.zip', 'C:\\\\Users\\\\ryker\\\\AppData\\\\Local\\\\Programs\\\\Python\\\\Python313\\\\DLLs', 'C:\\\\Users\\\\ryker\\\\AppData\\\\Local\\\\Programs\\\\Python\\\\Python313\\\\Lib', 'C:\\\\Users\\\\ryker\\\\AppData\\\\Local\\\\Programs\\\\Python\\\\Python313', 'c:\\\\LlamaIndex\\\\venv', '', 'c:\\\\LlamaIndex\\\\venv\\\\Lib\\\\site-packages', 'c:\\\\LlamaIndex\\\\venv\\\\Lib\\\\site-packages\\\\win32', 'c:\\\\LlamaIndex\\\\venv\\\\Lib\\\\site-packages\\\\win32\\\\lib', 'c:\\\\LlamaIndex\\\\venv\\\\Lib\\\\site-packages\\\\Pythonwin', '..\\\\src\\\\postgresDB\\\\pgstore.py', '..\\\\src\\\\postgresDB\\\\pgstore.py', 'C:\\\\LlamaIndex\\\\Resume-Creator\\\\src\\\\postgresDB\\\\pgstore.py']\n",
      "['C:\\\\Users\\\\ryker\\\\AppData\\\\Local\\\\Programs\\\\Python\\\\Python313\\\\python313.zip', 'C:\\\\Users\\\\ryker\\\\AppData\\\\Local\\\\Programs\\\\Python\\\\Python313\\\\DLLs', 'C:\\\\Users\\\\ryker\\\\AppData\\\\Local\\\\Programs\\\\Python\\\\Python313\\\\Lib', 'C:\\\\Users\\\\ryker\\\\AppData\\\\Local\\\\Programs\\\\Python\\\\Python313', 'c:\\\\LlamaIndex\\\\venv', '', 'c:\\\\LlamaIndex\\\\venv\\\\Lib\\\\site-packages', 'c:\\\\LlamaIndex\\\\venv\\\\Lib\\\\site-packages\\\\win32', 'c:\\\\LlamaIndex\\\\venv\\\\Lib\\\\site-packages\\\\win32\\\\lib', 'c:\\\\LlamaIndex\\\\venv\\\\Lib\\\\site-packages\\\\Pythonwin', '..\\\\src\\\\postgresDB\\\\pgstore.py', '..\\\\src\\\\postgresDB\\\\pgstore.py', 'C:\\\\LlamaIndex\\\\Resume-Creator\\\\src\\\\postgresDB\\\\pgstore.py', 'C:\\\\LlamaIndex\\\\Resume-Creator\\\\src\\\\postgresDB']\n"
     ]
    }
   ],
   "source": [
    "import sys\n",
    "import os\n",
    "print(os.getcwd())\n",
    "print(sys.path)\n",
    "sys.path.append(r\"C:\\LlamaIndex\\Resume-Creator\\src\\postgresDB\")\n",
    "print(sys.path)"
   ]
  },
  {
   "cell_type": "code",
   "execution_count": 5,
   "id": "50105b3b",
   "metadata": {},
   "outputs": [],
   "source": [
    "from pgstore import CreateDB"
   ]
  },
  {
   "cell_type": "code",
   "execution_count": null,
   "id": "42f9da93",
   "metadata": {},
   "outputs": [],
   "source": []
  }
 ],
 "metadata": {
  "kernelspec": {
   "display_name": "venv",
   "language": "python",
   "name": "python3"
  },
  "language_info": {
   "codemirror_mode": {
    "name": "ipython",
    "version": 3
   },
   "file_extension": ".py",
   "mimetype": "text/x-python",
   "name": "python",
   "nbconvert_exporter": "python",
   "pygments_lexer": "ipython3",
   "version": "3.13.6"
  }
 },
 "nbformat": 4,
 "nbformat_minor": 5
}
